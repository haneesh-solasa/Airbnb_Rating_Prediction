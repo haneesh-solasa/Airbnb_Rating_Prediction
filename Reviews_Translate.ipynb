{
 "cells": [
  {
   "cell_type": "markdown",
   "id": "42892cbd",
   "metadata": {},
   "source": [
    "# Reading Reviews File"
   ]
  },
  {
   "cell_type": "code",
   "execution_count": 1,
   "id": "2f924806",
   "metadata": {},
   "outputs": [],
   "source": [
    "import pandas as pd\n",
    "import nltk\n",
    "from nltk.stem import PorterStemmer\n",
    "from nltk.stem import WordNetLemmatizer\n",
    "from nltk.corpus import stopwords\n",
    "import re\n",
    "from collections import Counter\n",
    "from sklearn.feature_extraction.text import TfidfVectorizer\n",
    "import sklearn"
   ]
  },
  {
   "cell_type": "code",
   "execution_count": 2,
   "id": "a5130243",
   "metadata": {},
   "outputs": [],
   "source": [
    "df = pd.read_csv('reviews.csv')\n",
    "df = df.drop(columns = ['id','date','reviewer_id','reviewer_name'])"
   ]
  },
  {
   "cell_type": "markdown",
   "id": "50543b23",
   "metadata": {},
   "source": [
    "# Translating other language comments to English"
   ]
  },
  {
   "cell_type": "code",
   "execution_count": 3,
   "id": "c8354246",
   "metadata": {},
   "outputs": [],
   "source": [
    "import langdetect\n",
    "def is_english(text):\n",
    "    try:\n",
    "        return langdetect.detect(text) == 'en'\n",
    "    except:\n",
    "        return False\n",
    "    \n",
    "\n",
    "non_english_rows = df['comments'].where(df['comments'].apply(is_english)).index[df['comments'].apply(is_english) == False]"
   ]
  },
  {
   "cell_type": "code",
   "execution_count": 4,
   "id": "1b256fe2",
   "metadata": {},
   "outputs": [
    {
     "data": {
      "text/html": [
       "<div>\n",
       "<style scoped>\n",
       "    .dataframe tbody tr th:only-of-type {\n",
       "        vertical-align: middle;\n",
       "    }\n",
       "\n",
       "    .dataframe tbody tr th {\n",
       "        vertical-align: top;\n",
       "    }\n",
       "\n",
       "    .dataframe thead th {\n",
       "        text-align: right;\n",
       "    }\n",
       "</style>\n",
       "<table border=\"1\" class=\"dataframe\">\n",
       "  <thead>\n",
       "    <tr style=\"text-align: right;\">\n",
       "      <th></th>\n",
       "      <th>listing_id</th>\n",
       "      <th>translated</th>\n",
       "    </tr>\n",
       "  </thead>\n",
       "  <tbody>\n",
       "    <tr>\n",
       "      <th>0</th>\n",
       "      <td>44077</td>\n",
       "      <td>We enjoyed our stay very much. The room was co...</td>\n",
       "    </tr>\n",
       "    <tr>\n",
       "      <th>1</th>\n",
       "      <td>44077</td>\n",
       "      <td>We have been here 4 nights. Stay in a home is ...</td>\n",
       "    </tr>\n",
       "    <tr>\n",
       "      <th>2</th>\n",
       "      <td>44077</td>\n",
       "      <td>Teresa and Hughie were great hosts. They were ...</td>\n",
       "    </tr>\n",
       "    <tr>\n",
       "      <th>3</th>\n",
       "      <td>44077</td>\n",
       "      <td>No surprises, was as described.  Very gracious...</td>\n",
       "    </tr>\n",
       "    <tr>\n",
       "      <th>4</th>\n",
       "      <td>44077</td>\n",
       "      <td>Teresa was a lovely hostess, and we had a deli...</td>\n",
       "    </tr>\n",
       "    <tr>\n",
       "      <th>...</th>\n",
       "      <td>...</td>\n",
       "      <td>...</td>\n",
       "    </tr>\n",
       "    <tr>\n",
       "      <th>243178</th>\n",
       "      <td>706148275480196839</td>\n",
       "      <td>Excellent location, kindness and courtesy!</td>\n",
       "    </tr>\n",
       "    <tr>\n",
       "      <th>243179</th>\n",
       "      <td>706287276585342998</td>\n",
       "      <td>Jenny was able to get us in last minute and ex...</td>\n",
       "    </tr>\n",
       "    <tr>\n",
       "      <th>243180</th>\n",
       "      <td>706495821581154410</td>\n",
       "      <td>Very spacious; owners communicative. Only issu...</td>\n",
       "    </tr>\n",
       "    <tr>\n",
       "      <th>243181</th>\n",
       "      <td>707685389742134998</td>\n",
       "      <td>What a great host couple and great spot. Super...</td>\n",
       "    </tr>\n",
       "    <tr>\n",
       "      <th>243182</th>\n",
       "      <td>707825078259308780</td>\n",
       "      <td>Ana is a lovey host .&lt;br/&gt;There was an issue a...</td>\n",
       "    </tr>\n",
       "  </tbody>\n",
       "</table>\n",
       "<p>243183 rows × 2 columns</p>\n",
       "</div>"
      ],
      "text/plain": [
       "                listing_id                                         translated\n",
       "0                    44077  We enjoyed our stay very much. The room was co...\n",
       "1                    44077  We have been here 4 nights. Stay in a home is ...\n",
       "2                    44077  Teresa and Hughie were great hosts. They were ...\n",
       "3                    44077  No surprises, was as described.  Very gracious...\n",
       "4                    44077  Teresa was a lovely hostess, and we had a deli...\n",
       "...                    ...                                                ...\n",
       "243178  706148275480196839         Excellent location, kindness and courtesy!\n",
       "243179  706287276585342998  Jenny was able to get us in last minute and ex...\n",
       "243180  706495821581154410  Very spacious; owners communicative. Only issu...\n",
       "243181  707685389742134998  What a great host couple and great spot. Super...\n",
       "243182  707825078259308780  Ana is a lovey host .<br/>There was an issue a...\n",
       "\n",
       "[243183 rows x 2 columns]"
      ]
     },
     "execution_count": 4,
     "metadata": {},
     "output_type": "execute_result"
    }
   ],
   "source": [
    "from googletrans import Translator\n",
    "translator = Translator()\n",
    "for index in non_english_rows:\n",
    "    df.loc[index, 'comments'] = translator.translate(df.loc[index, 'comments'], dest='en').text\n",
    "df['translated'] = df['comments']\n",
    "df.drop(columns = ['comments'])"
   ]
  },
  {
   "cell_type": "markdown",
   "id": "489211d8",
   "metadata": {},
   "source": [
    "# Clean Translated Column"
   ]
  },
  {
   "cell_type": "code",
   "execution_count": 5,
   "id": "d6484fb3",
   "metadata": {},
   "outputs": [],
   "source": [
    "#Clean Columns using Regular Expression\n",
    "def clean_column(paragraph):\n",
    "    paragraph = re.sub(r'<[^>]*>', ' ', paragraph)\n",
    "    paragraph = re.sub(r'[^a-zA-Z ]', ' ', paragraph)\n",
    "    paragraph = re.sub(r'[^\\w\\s]', ' ', paragraph)\n",
    "    paragraph = paragraph.lower()\n",
    "    return paragraph"
   ]
  },
  {
   "cell_type": "code",
   "execution_count": 6,
   "id": "1c4ecd09",
   "metadata": {},
   "outputs": [],
   "source": [
    "df.fillna({'translated':'No Review Given'}, inplace=True)"
   ]
  },
  {
   "cell_type": "code",
   "execution_count": 11,
   "id": "9608461a",
   "metadata": {},
   "outputs": [],
   "source": [
    "df = df.drop(columns = ['comments'])"
   ]
  },
  {
   "cell_type": "code",
   "execution_count": 13,
   "id": "dbc92f2a",
   "metadata": {},
   "outputs": [],
   "source": [
    "for row in range(df.shape[0]):\n",
    "    df.iloc[row,1] = clean_column(df.iloc[row,1])"
   ]
  },
  {
   "cell_type": "code",
   "execution_count": 14,
   "id": "d7ea407f",
   "metadata": {},
   "outputs": [
    {
     "data": {
      "text/html": [
       "<div>\n",
       "<style scoped>\n",
       "    .dataframe tbody tr th:only-of-type {\n",
       "        vertical-align: middle;\n",
       "    }\n",
       "\n",
       "    .dataframe tbody tr th {\n",
       "        vertical-align: top;\n",
       "    }\n",
       "\n",
       "    .dataframe thead th {\n",
       "        text-align: right;\n",
       "    }\n",
       "</style>\n",
       "<table border=\"1\" class=\"dataframe\">\n",
       "  <thead>\n",
       "    <tr style=\"text-align: right;\">\n",
       "      <th></th>\n",
       "      <th>listing_id</th>\n",
       "      <th>translated</th>\n",
       "    </tr>\n",
       "  </thead>\n",
       "  <tbody>\n",
       "    <tr>\n",
       "      <th>0</th>\n",
       "      <td>44077</td>\n",
       "      <td>we enjoyed our stay very much  the room was co...</td>\n",
       "    </tr>\n",
       "    <tr>\n",
       "      <th>1</th>\n",
       "      <td>44077</td>\n",
       "      <td>we have been here   nights  stay in a home is ...</td>\n",
       "    </tr>\n",
       "    <tr>\n",
       "      <th>2</th>\n",
       "      <td>44077</td>\n",
       "      <td>teresa and hughie were great hosts  they were ...</td>\n",
       "    </tr>\n",
       "    <tr>\n",
       "      <th>3</th>\n",
       "      <td>44077</td>\n",
       "      <td>no surprises  was as described   very gracious...</td>\n",
       "    </tr>\n",
       "    <tr>\n",
       "      <th>4</th>\n",
       "      <td>44077</td>\n",
       "      <td>teresa was a lovely hostess  and we had a deli...</td>\n",
       "    </tr>\n",
       "    <tr>\n",
       "      <th>...</th>\n",
       "      <td>...</td>\n",
       "      <td>...</td>\n",
       "    </tr>\n",
       "    <tr>\n",
       "      <th>243178</th>\n",
       "      <td>706148275480196839</td>\n",
       "      <td>excellent location  kindness and courtesy</td>\n",
       "    </tr>\n",
       "    <tr>\n",
       "      <th>243179</th>\n",
       "      <td>706287276585342998</td>\n",
       "      <td>jenny was able to get us in last minute and ex...</td>\n",
       "    </tr>\n",
       "    <tr>\n",
       "      <th>243180</th>\n",
       "      <td>706495821581154410</td>\n",
       "      <td>very spacious  owners communicative  only issu...</td>\n",
       "    </tr>\n",
       "    <tr>\n",
       "      <th>243181</th>\n",
       "      <td>707685389742134998</td>\n",
       "      <td>what a great host couple and great spot  super...</td>\n",
       "    </tr>\n",
       "    <tr>\n",
       "      <th>243182</th>\n",
       "      <td>707825078259308780</td>\n",
       "      <td>ana is a lovey host   there was an issue at   ...</td>\n",
       "    </tr>\n",
       "  </tbody>\n",
       "</table>\n",
       "<p>243183 rows × 2 columns</p>\n",
       "</div>"
      ],
      "text/plain": [
       "                listing_id                                         translated\n",
       "0                    44077  we enjoyed our stay very much  the room was co...\n",
       "1                    44077  we have been here   nights  stay in a home is ...\n",
       "2                    44077  teresa and hughie were great hosts  they were ...\n",
       "3                    44077  no surprises  was as described   very gracious...\n",
       "4                    44077  teresa was a lovely hostess  and we had a deli...\n",
       "...                    ...                                                ...\n",
       "243178  706148275480196839         excellent location  kindness and courtesy \n",
       "243179  706287276585342998  jenny was able to get us in last minute and ex...\n",
       "243180  706495821581154410  very spacious  owners communicative  only issu...\n",
       "243181  707685389742134998  what a great host couple and great spot  super...\n",
       "243182  707825078259308780  ana is a lovey host   there was an issue at   ...\n",
       "\n",
       "[243183 rows x 2 columns]"
      ]
     },
     "execution_count": 14,
     "metadata": {},
     "output_type": "execute_result"
    }
   ],
   "source": [
    "df"
   ]
  },
  {
   "cell_type": "markdown",
   "id": "30aa2033",
   "metadata": {},
   "source": [
    "# Write the results to csv file"
   ]
  },
  {
   "cell_type": "code",
   "execution_count": 15,
   "id": "ef94daf6",
   "metadata": {},
   "outputs": [],
   "source": [
    "df['listing_id'] = df['listing_id'].astype(int)"
   ]
  },
  {
   "cell_type": "code",
   "execution_count": 16,
   "id": "e80ff361",
   "metadata": {},
   "outputs": [],
   "source": [
    "df.to_csv('Reviews_Final.csv', index=False)"
   ]
  },
  {
   "cell_type": "code",
   "execution_count": null,
   "id": "3e17112a",
   "metadata": {},
   "outputs": [],
   "source": []
  }
 ],
 "metadata": {
  "kernelspec": {
   "display_name": "Python 3 (ipykernel)",
   "language": "python",
   "name": "python3"
  },
  "language_info": {
   "codemirror_mode": {
    "name": "ipython",
    "version": 3
   },
   "file_extension": ".py",
   "mimetype": "text/x-python",
   "name": "python",
   "nbconvert_exporter": "python",
   "pygments_lexer": "ipython3",
   "version": "3.8.13"
  }
 },
 "nbformat": 4,
 "nbformat_minor": 5
}
