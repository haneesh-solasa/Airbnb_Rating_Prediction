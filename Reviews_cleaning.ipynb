{
 "cells": [
  {
   "cell_type": "markdown",
   "id": "d698d7ff",
   "metadata": {},
   "source": [
    "# Reading Files"
   ]
  },
  {
   "cell_type": "code",
   "execution_count": 1,
   "id": "545255cb",
   "metadata": {},
   "outputs": [],
   "source": [
    "import pandas as pd\n",
    "import nltk\n",
    "from nltk.stem import PorterStemmer\n",
    "from nltk.stem import WordNetLemmatizer\n",
    "from nltk.corpus import stopwords\n",
    "import re\n",
    "from collections import Counter\n",
    "from sklearn.feature_extraction.text import TfidfVectorizer\n",
    "import sklearn"
   ]
  },
  {
   "cell_type": "code",
   "execution_count": 2,
   "id": "81e3d21d",
   "metadata": {},
   "outputs": [],
   "source": [
    "df_2 = pd.read_csv('Reviews_Final.csv')"
   ]
  },
  {
   "cell_type": "markdown",
   "id": "297a460e",
   "metadata": {},
   "source": [
    "# Group By Listing ID and then Clean Columns"
   ]
  },
  {
   "cell_type": "code",
   "execution_count": 3,
   "id": "0ff001ec",
   "metadata": {},
   "outputs": [],
   "source": [
    "#Clean Columns using Regular Expression\n",
    "def clean_column(paragraph):\n",
    "    paragraph = re.sub(r'<[^>]*>', ' ', paragraph)\n",
    "    paragraph = re.sub(r'[^a-zA-Z ]', ' ', paragraph)\n",
    "    paragraph = re.sub(r'[^\\w\\s]', ' ', paragraph)\n",
    "    paragraph = paragraph.lower()\n",
    "    return paragraph"
   ]
  },
  {
   "cell_type": "code",
   "execution_count": 4,
   "id": "38c67be1",
   "metadata": {},
   "outputs": [],
   "source": [
    "grouped_df = df_2.groupby('listing_id')['translated'].apply(list).reset_index(name=\"translated\")"
   ]
  },
  {
   "cell_type": "code",
   "execution_count": 5,
   "id": "c3dd998a",
   "metadata": {},
   "outputs": [],
   "source": [
    "grouped_df['translated'] = grouped_df['translated'].astype(str)\n",
    "for row in range(grouped_df.shape[0]):\n",
    "    grouped_df.iloc[row,1] = clean_column(grouped_df.iloc[row,1])"
   ]
  },
  {
   "cell_type": "markdown",
   "id": "7d54c150",
   "metadata": {},
   "source": [
    "# Lemmetization and Stop Word Removal"
   ]
  },
  {
   "cell_type": "code",
   "execution_count": 7,
   "id": "0375596f",
   "metadata": {},
   "outputs": [],
   "source": [
    "#Lemmetization, Stop Word Removal for Translated.\n",
    "\n",
    "for row in range(grouped_df.shape[0]):\n",
    "    paragraph = grouped_df.iloc[row,1]\n",
    "    if(type(paragraph)==str):\n",
    "        sentences = nltk.sent_tokenize(paragraph)\n",
    "        lemmatizer = WordNetLemmatizer()\n",
    "        for i in range(len(sentences)):\n",
    "            review = sentences[i].split()\n",
    "            words = [lemmatizer.lemmatize(word) for word in review if word.lower() not in set(stopwords.words('english'))]\n",
    "            sentences[i] = ' '.join(words)\n",
    "        paragraph = ' '.join(sentences)\n",
    "        grouped_df.iloc[row,1] = paragraph"
   ]
  },
  {
   "cell_type": "code",
   "execution_count": 8,
   "id": "6b1168bc",
   "metadata": {},
   "outputs": [
    {
     "data": {
      "text/html": [
       "<div>\n",
       "<style scoped>\n",
       "    .dataframe tbody tr th:only-of-type {\n",
       "        vertical-align: middle;\n",
       "    }\n",
       "\n",
       "    .dataframe tbody tr th {\n",
       "        vertical-align: top;\n",
       "    }\n",
       "\n",
       "    .dataframe thead th {\n",
       "        text-align: right;\n",
       "    }\n",
       "</style>\n",
       "<table border=\"1\" class=\"dataframe\">\n",
       "  <thead>\n",
       "    <tr style=\"text-align: right;\">\n",
       "      <th></th>\n",
       "      <th>listing_id</th>\n",
       "      <th>translated</th>\n",
       "    </tr>\n",
       "  </thead>\n",
       "  <tbody>\n",
       "    <tr>\n",
       "      <th>0</th>\n",
       "      <td>44077</td>\n",
       "      <td>enjoyed stay much room comfortable neat clean ...</td>\n",
       "    </tr>\n",
       "    <tr>\n",
       "      <th>1</th>\n",
       "      <td>85156</td>\n",
       "      <td>teresa family lovely host welcoming sociable i...</td>\n",
       "    </tr>\n",
       "    <tr>\n",
       "      <th>2</th>\n",
       "      <td>159889</td>\n",
       "      <td>margaret helpful attentive husband nice always...</td>\n",
       "    </tr>\n",
       "    <tr>\n",
       "      <th>3</th>\n",
       "      <td>162809</td>\n",
       "      <td>robbie welcoming good time sociable great sens...</td>\n",
       "    </tr>\n",
       "    <tr>\n",
       "      <th>4</th>\n",
       "      <td>165828</td>\n",
       "      <td>wonderful time staying grainnes apartment apar...</td>\n",
       "    </tr>\n",
       "    <tr>\n",
       "      <th>...</th>\n",
       "      <td>...</td>\n",
       "      <td>...</td>\n",
       "    </tr>\n",
       "    <tr>\n",
       "      <th>6204</th>\n",
       "      <td>707685389742134998</td>\n",
       "      <td>great host couple great spot super clean brand...</td>\n",
       "    </tr>\n",
       "    <tr>\n",
       "      <th>6205</th>\n",
       "      <td>707825078259308780</td>\n",
       "      <td>ana lovey host issue night came resolved issue...</td>\n",
       "    </tr>\n",
       "    <tr>\n",
       "      <th>6206</th>\n",
       "      <td>708679904448712003</td>\n",
       "      <td>fantastic stay house perfect everything u need...</td>\n",
       "    </tr>\n",
       "    <tr>\n",
       "      <th>6207</th>\n",
       "      <td>709451504510289772</td>\n",
       "      <td>best airbnb host ever humble helpful even thou...</td>\n",
       "    </tr>\n",
       "    <tr>\n",
       "      <th>6208</th>\n",
       "      <td>710054111904793673</td>\n",
       "      <td>noel great host room clean comfortable house s...</td>\n",
       "    </tr>\n",
       "  </tbody>\n",
       "</table>\n",
       "<p>6209 rows × 2 columns</p>\n",
       "</div>"
      ],
      "text/plain": [
       "              listing_id                                         translated\n",
       "0                  44077  enjoyed stay much room comfortable neat clean ...\n",
       "1                  85156  teresa family lovely host welcoming sociable i...\n",
       "2                 159889  margaret helpful attentive husband nice always...\n",
       "3                 162809  robbie welcoming good time sociable great sens...\n",
       "4                 165828  wonderful time staying grainnes apartment apar...\n",
       "...                  ...                                                ...\n",
       "6204  707685389742134998  great host couple great spot super clean brand...\n",
       "6205  707825078259308780  ana lovey host issue night came resolved issue...\n",
       "6206  708679904448712003  fantastic stay house perfect everything u need...\n",
       "6207  709451504510289772  best airbnb host ever humble helpful even thou...\n",
       "6208  710054111904793673  noel great host room clean comfortable house s...\n",
       "\n",
       "[6209 rows x 2 columns]"
      ]
     },
     "execution_count": 8,
     "metadata": {},
     "output_type": "execute_result"
    }
   ],
   "source": [
    "grouped_df"
   ]
  },
  {
   "cell_type": "markdown",
   "id": "7c6fdc8f",
   "metadata": {},
   "source": [
    "# Storing the dataframe in memory to use in different notebook"
   ]
  },
  {
   "cell_type": "code",
   "execution_count": 14,
   "id": "ea2d3fab",
   "metadata": {},
   "outputs": [],
   "source": [
    "grouped_df['listing_id'] = grouped_df['listing_id'].astype(int)"
   ]
  },
  {
   "cell_type": "code",
   "execution_count": 15,
   "id": "34696346",
   "metadata": {},
   "outputs": [
    {
     "name": "stdout",
     "output_type": "stream",
     "text": [
      "Stored 'grouped_df' (DataFrame)\n"
     ]
    }
   ],
   "source": [
    "%store grouped_df"
   ]
  },
  {
   "cell_type": "code",
   "execution_count": null,
   "id": "3b901e99",
   "metadata": {},
   "outputs": [],
   "source": []
  }
 ],
 "metadata": {
  "kernelspec": {
   "display_name": "Python 3 (ipykernel)",
   "language": "python",
   "name": "python3"
  },
  "language_info": {
   "codemirror_mode": {
    "name": "ipython",
    "version": 3
   },
   "file_extension": ".py",
   "mimetype": "text/x-python",
   "name": "python",
   "nbconvert_exporter": "python",
   "pygments_lexer": "ipython3",
   "version": "3.8.13"
  }
 },
 "nbformat": 4,
 "nbformat_minor": 5
}
